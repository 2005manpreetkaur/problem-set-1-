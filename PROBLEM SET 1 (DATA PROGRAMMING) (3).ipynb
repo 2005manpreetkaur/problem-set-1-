{
 "cells": [
  {
   "cell_type": "markdown",
   "id": "697676cb",
   "metadata": {},
   "source": [
    "# PROBLEM SET 1"
   ]
  },
  {
   "cell_type": "markdown",
   "id": "a29fa342",
   "metadata": {},
   "source": [
    "Question 1"
   ]
  },
  {
   "cell_type": "code",
   "execution_count": 1,
   "id": "77061908",
   "metadata": {},
   "outputs": [
    {
     "name": "stdout",
     "output_type": "stream",
     "text": [
      "<class 'int'>\n"
     ]
    }
   ],
   "source": [
    "print(type(5))"
   ]
  },
  {
   "cell_type": "code",
   "execution_count": 2,
   "id": "ac08e142",
   "metadata": {},
   "outputs": [
    {
     "name": "stdout",
     "output_type": "stream",
     "text": [
      "<class 'float'>\n"
     ]
    }
   ],
   "source": [
    "print(type(5.0))"
   ]
  },
  {
   "cell_type": "code",
   "execution_count": 3,
   "id": "19e16cbb",
   "metadata": {},
   "outputs": [
    {
     "name": "stdout",
     "output_type": "stream",
     "text": [
      "<class 'bool'>\n"
     ]
    }
   ],
   "source": [
    "print(type(5>1))"
   ]
  },
  {
   "cell_type": "code",
   "execution_count": 4,
   "id": "611d6f26",
   "metadata": {},
   "outputs": [
    {
     "name": "stdout",
     "output_type": "stream",
     "text": [
      "<class 'str'>\n"
     ]
    }
   ],
   "source": [
    "print(type('5'))"
   ]
  },
  {
   "cell_type": "code",
   "execution_count": 5,
   "id": "6dd01743",
   "metadata": {
    "scrolled": true
   },
   "outputs": [
    {
     "name": "stdout",
     "output_type": "stream",
     "text": [
      "<class 'int'>\n"
     ]
    }
   ],
   "source": [
    "print(type(5*2))"
   ]
  },
  {
   "cell_type": "code",
   "execution_count": 6,
   "id": "3d1d4279",
   "metadata": {},
   "outputs": [
    {
     "name": "stdout",
     "output_type": "stream",
     "text": [
      "<class 'str'>\n"
     ]
    }
   ],
   "source": [
    "print(type('5'*2))"
   ]
  },
  {
   "cell_type": "code",
   "execution_count": 7,
   "id": "f2700e20",
   "metadata": {},
   "outputs": [
    {
     "name": "stdout",
     "output_type": "stream",
     "text": [
      "<class 'str'>\n"
     ]
    }
   ],
   "source": [
    "print(type('5'+'2'))"
   ]
  },
  {
   "cell_type": "code",
   "execution_count": 8,
   "id": "aef24dfa",
   "metadata": {},
   "outputs": [
    {
     "name": "stdout",
     "output_type": "stream",
     "text": [
      "<class 'float'>\n"
     ]
    }
   ],
   "source": [
    "print(type(5/2))"
   ]
  },
  {
   "cell_type": "code",
   "execution_count": 9,
   "id": "b7684ffa",
   "metadata": {},
   "outputs": [
    {
     "name": "stdout",
     "output_type": "stream",
     "text": [
      "<class 'int'>\n"
     ]
    }
   ],
   "source": [
    "print(type(5%2))"
   ]
  },
  {
   "cell_type": "code",
   "execution_count": 10,
   "id": "c00f92d5",
   "metadata": {},
   "outputs": [
    {
     "name": "stdout",
     "output_type": "stream",
     "text": [
      "<class 'set'>\n"
     ]
    }
   ],
   "source": [
    "print(type({5,2,1}))"
   ]
  },
  {
   "cell_type": "code",
   "execution_count": 11,
   "id": "7cd98106",
   "metadata": {
    "scrolled": true
   },
   "outputs": [
    {
     "name": "stdout",
     "output_type": "stream",
     "text": [
      "<class 'bool'>\n"
     ]
    }
   ],
   "source": [
    "print(type(5==3))"
   ]
  },
  {
   "cell_type": "code",
   "execution_count": 12,
   "id": "ee015ecf",
   "metadata": {},
   "outputs": [
    {
     "name": "stdout",
     "output_type": "stream",
     "text": [
      "<class 'float'>\n"
     ]
    }
   ],
   "source": [
    "import math\n",
    "print(type(math.pi))"
   ]
  },
  {
   "cell_type": "markdown",
   "id": "3f919d05",
   "metadata": {},
   "source": [
    "Question 2"
   ]
  },
  {
   "cell_type": "markdown",
   "id": "425c269d",
   "metadata": {},
   "source": [
    "a"
   ]
  },
  {
   "cell_type": "code",
   "execution_count": 15,
   "id": "d7599e64",
   "metadata": {},
   "outputs": [
    {
     "name": "stdout",
     "output_type": "stream",
     "text": [
      "34\n"
     ]
    }
   ],
   "source": [
    "s='Supercalifragilisticexpialidocious'\n",
    "print(len(s))"
   ]
  },
  {
   "cell_type": "markdown",
   "id": "43db5840",
   "metadata": {},
   "source": [
    "b"
   ]
  },
  {
   "cell_type": "code",
   "execution_count": 18,
   "id": "969cafc4",
   "metadata": {},
   "outputs": [
    {
     "name": "stdout",
     "output_type": "stream",
     "text": [
      "True\n"
     ]
    }
   ],
   "source": [
    "s='Supercalifragilisticexpialidocious'\n",
    "print(s.__contains__('ice'))"
   ]
  },
  {
   "cell_type": "markdown",
   "id": "7597bb90",
   "metadata": {},
   "source": [
    "c"
   ]
  },
  {
   "cell_type": "code",
   "execution_count": 30,
   "id": "b7d92a53",
   "metadata": {},
   "outputs": [
    {
     "name": "stdout",
     "output_type": "stream",
     "text": [
      "Supercalifragilisticexpialidocious\n"
     ]
    }
   ],
   "source": [
    "s=(\"Supercalifragilisticexpialidocious\",\" Honorificabilitudinitatibus\",\" Bababadalgharaghtakamminarronnkonn \")\n",
    "maxnumber=max(s)\n",
    "print(maxnumber)\n",
    "    "
   ]
  },
  {
   "cell_type": "markdown",
   "id": "e4e7c46f",
   "metadata": {},
   "source": [
    "d"
   ]
  },
  {
   "cell_type": "code",
   "execution_count": 64,
   "id": "105a1c96",
   "metadata": {},
   "outputs": [
    {
     "name": "stdout",
     "output_type": "stream",
     "text": [
      "['Bartok', 'Bellini', 'Berlioz', 'Bernstein', 'Borodin', 'Brian', 'Buxtehude']\n",
      "First= Bartok\n",
      "Last= Buxtehude\n"
     ]
    }
   ],
   "source": [
    "composers=['Berlioz', 'Borodin', 'Brian','Bartok', 'Bellini', 'Buxtehude', 'Bernstein']\n",
    "classified_composers= sorted(composers)\n",
    "print(classified_composers)\n",
    "first= print(\"First=\", classified_composers[0])\n",
    "last= print(\"Last=\", classified_composers[-1])"
   ]
  },
  {
   "cell_type": "markdown",
   "id": "efa52c0e",
   "metadata": {},
   "source": [
    "Question 3"
   ]
  },
  {
   "cell_type": "code",
   "execution_count": 3,
   "id": "745e7fe9",
   "metadata": {},
   "outputs": [
    {
     "name": "stdout",
     "output_type": "stream",
     "text": [
      "Enter first side:2\n",
      "Enter second side:2\n",
      "Enter third side:2\n",
      "The area of the triangle is 1.73\n"
     ]
    }
   ],
   "source": [
    "a=float (input('Enter first side:'))\n",
    "b=float(input('Enter second side:'))\n",
    "c=float(input('Enter third side:'))\n",
    "s=(a+b+c)/2\n",
    "area=(s*(s-a)*(s-b)*(s-c))**0.5\n",
    "print('The area of the triangle is %0.2f' %area)"
   ]
  },
  {
   "cell_type": "markdown",
   "id": "cb48b422",
   "metadata": {},
   "source": [
    "Question 4"
   ]
  },
  {
   "cell_type": "code",
   "execution_count": 13,
   "id": "0eb713e1",
   "metadata": {
    "scrolled": false
   },
   "outputs": [
    {
     "name": "stdout",
     "output_type": "stream",
     "text": [
      "Enter number of element:5\n",
      "Enter element:25\n",
      "Enter element:47\n",
      "Enter element:42\n",
      "Enter element:56\n",
      "Enter element:32\n",
      "The even list [42, 56, 32]\n",
      "The odd list [25, 47]\n"
     ]
    }
   ],
   "source": [
    "a=[]\n",
    "n=int(input(\"Enter number of element:\"))\n",
    "for i in range(1,n+1):\n",
    "    b=int(input(\"Enter element:\"))\n",
    "    a.append(b)\n",
    "even=[]\n",
    "odd=[]\n",
    "for j in a:\n",
    "    if(j%2==0):\n",
    "        even.append(j)\n",
    "    else:\n",
    "          odd.append(j)\n",
    "print(\"The even list\",even)\n",
    "print(\"The odd list\",odd)"
   ]
  },
  {
   "cell_type": "markdown",
   "id": "52008fc4",
   "metadata": {},
   "source": [
    "Question 5"
   ]
  },
  {
   "cell_type": "markdown",
   "id": "09b757ca",
   "metadata": {},
   "source": [
    "a"
   ]
  },
  {
   "cell_type": "code",
   "execution_count": 16,
   "id": "82f23b0c",
   "metadata": {},
   "outputs": [
    {
     "data": {
      "text/plain": [
       "True"
      ]
     },
     "execution_count": 16,
     "metadata": {},
     "output_type": "execute_result"
    }
   ],
   "source": [
    "def inside(x,y,x1,y1,x2,y2):\n",
    "    if x1 <= x <= x2 and y1 <= y <= y2:\n",
    "        return True\n",
    "    else:\n",
    "        return False\n",
    "             \n",
    "        \n",
    "inside(1,1,0,0,2,3)\n"
   ]
  },
  {
   "cell_type": "markdown",
   "id": "eb0935e0",
   "metadata": {},
   "source": [
    "b"
   ]
  },
  {
   "cell_type": "code",
   "execution_count": 14,
   "id": "c63b8b90",
   "metadata": {},
   "outputs": [
    {
     "name": "stdout",
     "output_type": "stream",
     "text": [
      "False\n"
     ]
    }
   ],
   "source": [
    "def inside(x,y,x1,y1,x2,y2):\n",
    "    if (x >=x1 and x <=x2 and y >=y1 and y <=y2):\n",
    "        return True\n",
    "    elif(x >=x2 and x <=x1 and y >=y2 and  y <=y1):\n",
    "        return True\n",
    "    else:\n",
    "        return False \n",
    "print(inside(1,1,0.3,0.5,1.1,0.7)and inside(1,1,0.5,0.2,1.1,2))"
   ]
  },
  {
   "cell_type": "markdown",
   "id": "733a7681",
   "metadata": {},
   "source": [
    "Question 6"
   ]
  },
  {
   "cell_type": "code",
   "execution_count": 55,
   "id": "7c240f0e",
   "metadata": {
    "scrolled": true
   },
   "outputs": [
    {
     "name": "stdout",
     "output_type": "stream",
     "text": [
      "appyhay\n",
      "enterway\n"
     ]
    }
   ],
   "source": [
    "vowels= ('a','e','i','o','u')\n",
    "def pig_Latin(word):  \n",
    "               \n",
    "         \n",
    "        if(word[0] .lower() in vowels):\n",
    "            #look for vowels in first letter\n",
    "            print(word.lower() +\"way\")\n",
    "        else:  \n",
    "            print(word[1:].lower()+word[0].lower()+'ay')\n",
    "            return(\"The output is:\")\n",
    "pig_Latin(\"happy\")\n",
    "pig_Latin(\"Enter\")              \n",
    "              \n",
    "            \n",
    "         \n",
    "    \n",
    "    \n",
    "       \n",
    "    "
   ]
  },
  {
   "cell_type": "markdown",
   "id": "51264c15",
   "metadata": {},
   "source": [
    "Question 7"
   ]
  },
  {
   "cell_type": "code",
   "execution_count": 33,
   "id": "1a1d038c",
   "metadata": {},
   "outputs": [
    {
     "name": "stdout",
     "output_type": "stream",
     "text": [
      "There are 27 patients of blood type A.\n",
      "There are 14 patients of blood type B.\n",
      "There are 13 patients of blood type AB.\n",
      "There are 15 patients of blood type O.\n",
      "There are no patients of blood type OO.\n"
     ]
    }
   ],
   "source": [
    " def bldCount(bloodfile_1):\n",
    "    p = open(r'C:\\Users\\malke\\Downloads\\bloodtxt.txt')\n",
    "    fun=p.read()\n",
    "    A=int(fun.count(' A' ))\n",
    "    B=int(fun.count('B'))\n",
    "    AB=int(fun.count('AB'))\n",
    "    O=int(fun.count('O'))\n",
    "    OO=int(fun.count('OO'))\n",
    "    \n",
    "    if(A==0):\n",
    "        print('There are no patients of blood type A.')\n",
    "    elif(A==1):\n",
    "        print('There is one patient of blood type A.')\n",
    "    else:\n",
    "        print('There are {} patients of blood type A.'.format(A))\n",
    "        \n",
    "    if(B==0):\n",
    "        print('There are no patients of blood type B.')\n",
    "    elif(B==1):\n",
    "        print('There is one patient of blood type B.')\n",
    "    else:\n",
    "        print('There are {} patients of blood type B.'.format(B))\n",
    "        \n",
    "    if(AB==0):\n",
    "        print('There are no patients of blood type AB.')\n",
    "    elif(AB==1):\n",
    "        print('There is one patient of blood type AB.')\n",
    "    else:\n",
    "        print('There are {} patients of blood type AB.'.format(AB))\n",
    "        \n",
    "    if(O==0):\n",
    "        print('There are no patients of blood type O.')\n",
    "    elif(O==1):\n",
    "        print('There is one patient of blood type O.')\n",
    "    else:\n",
    "        print('There are {} patients of blood type O.'.format(O))\n",
    "        \n",
    "    if(OO==0):\n",
    "        print('There are no patients of blood type OO.')\n",
    "    elif(OO==1):\n",
    "        print('There is one patient of blood type OO.')\n",
    "    else:\n",
    "        print('There are {} patients of blood type OO.'.format(OO))\n",
    "            \n",
    "bldCount('bloodtype1.txt')"
   ]
  },
  {
   "cell_type": "markdown",
   "id": "839a1981",
   "metadata": {},
   "source": [
    "Question 8"
   ]
  },
  {
   "cell_type": "code",
   "execution_count": 1,
   "id": "0037726a",
   "metadata": {},
   "outputs": [
    {
     "name": "stdout",
     "output_type": "stream",
     "text": [
      "Enter currency:122.96544\n",
      "Enter currency1.241401\n"
     ]
    }
   ],
   "source": [
    "CurrencyEUR= input(\"Enter currency:\")            ##loading european cuurency\n",
    "CurrencyJYN= input(\"Enter currency\")             ##loading japanese currency"
   ]
  },
  {
   "cell_type": "code",
   "execution_count": 72,
   "id": "3e7664e5",
   "metadata": {},
   "outputs": [
    {
     "ename": "IndentationError",
     "evalue": "unexpected indent (671199329.py, line 5)",
     "output_type": "error",
     "traceback": [
      "\u001b[1;36m  File \u001b[1;32m\"C:\\Users\\malke\\AppData\\Local\\Temp\\ipykernel_8748\\671199329.py\"\u001b[1;36m, line \u001b[1;32m5\u001b[0m\n\u001b[1;33m    for line in r.readline():\u001b[0m\n\u001b[1;37m    ^\u001b[0m\n\u001b[1;31mIndentationError\u001b[0m\u001b[1;31m:\u001b[0m unexpected indent\n"
     ]
    }
   ],
   "source": [
    "def curconv (p,q):      #a functions which inculcates 2 values,one is currency and other is  exchange value\n",
    "#where currency  rate=p and exchange value=q\n",
    "      r = open(r\"C:\\Users\\malke\\Downloads\\CURRENCY.txt\",)\n",
    "   \n",
    "            for line in r.readline():\n",
    "            f= line.split()    #f= fields \n",
    "             currency_type, value = f[0], float(f[1])\n",
    "            \n",
    "        \n",
    "             if(currency_type == p):\n",
    "                break\n",
    "                \n",
    "            \n",
    "             r.close()\n",
    "                return value = (q)\n",
    "    \n",
    "print (curconv(\"EUR\",100))\n",
    "print(curconv(\"JYN\",100))"
   ]
  },
  {
   "cell_type": "markdown",
   "id": "c701b24a",
   "metadata": {},
   "source": [
    "Question 9"
   ]
  },
  {
   "cell_type": "markdown",
   "id": "159af07c",
   "metadata": {},
   "source": [
    "when  we try to attach opposite varibles,as in adding 6 + 'a'\n",
    "\n",
    "error =\"invalid character\""
   ]
  },
  {
   "cell_type": "markdown",
   "id": "534f1ff2",
   "metadata": {},
   "source": [
    "if we are attempting to print 12 items from a list that only has 10\n",
    "\n",
    "error =\"list index out of range\""
   ]
  },
  {
   "cell_type": "markdown",
   "id": "45fce57e",
   "metadata": {},
   "source": [
    "using a out of range value as an input for function.\n",
    "\n",
    "error = \"valueError exception\""
   ]
  },
  {
   "cell_type": "markdown",
   "id": "ad7ae4b9",
   "metadata": {},
   "source": [
    "using a variable that is not declared such as print(x),has not been defined.\n",
    "\n",
    "error ='x' is not defined"
   ]
  },
  {
   "cell_type": "markdown",
   "id": "479f05ec",
   "metadata": {},
   "source": [
    "Attempting to open a document that does not exist .for example ,mistyping the record name or throughly searching in some unacceptable directory.\n",
    "\n",
    "error = No such document found "
   ]
  },
  {
   "cell_type": "markdown",
   "id": "60a74a67",
   "metadata": {},
   "source": [
    "Question 10"
   ]
  },
  {
   "cell_type": "code",
   "execution_count": 4,
   "id": "7e1cf50b",
   "metadata": {},
   "outputs": [
    {
     "name": "stdout",
     "output_type": "stream",
     "text": [
      "count{'a': 1}\n",
      "count{'a': 1, 'p': 1}\n",
      "count{'a': 1, 'p': 2, 'l': 1}\n",
      "count{'a': 1, 'p': 2, 'l': 1, 'e': 1}\n"
     ]
    }
   ],
   "source": [
    "test_str = \"apple\"\n",
    "all_freq = {}\n",
    "for i in test_str:\n",
    "    if i in all_freq:\n",
    "        all_freq[i] +=1\n",
    "    else:\n",
    "        all_freq[i] = 1\n",
    "        print(\"count\" +str(all_freq))\n"
   ]
  }
 ],
 "metadata": {
  "kernelspec": {
   "display_name": "Python 3 (ipykernel)",
   "language": "python",
   "name": "python3"
  },
  "language_info": {
   "codemirror_mode": {
    "name": "ipython",
    "version": 3
   },
   "file_extension": ".py",
   "mimetype": "text/x-python",
   "name": "python",
   "nbconvert_exporter": "python",
   "pygments_lexer": "ipython3",
   "version": "3.9.13"
  }
 },
 "nbformat": 4,
 "nbformat_minor": 5
}
